{
 "cells": [
  {
   "cell_type": "code",
   "execution_count": 35,
   "metadata": {},
   "outputs": [],
   "source": [
    "import os\n",
    "import numpy as np\n",
    "import polars as pl\n",
    "import pandas as pd\n",
    "import matplotlib.pyplot as plt"
   ]
  },
  {
   "cell_type": "code",
   "execution_count": 36,
   "metadata": {},
   "outputs": [],
   "source": [
    "data = pl.read_csv(\n",
    "    '~/Documents/kazispaces/dsrc/py/finlytik-app/data/unprocessed_train.csv', infer_schema_length=0)\n"
   ]
  },
  {
   "cell_type": "code",
   "execution_count": 37,
   "metadata": {},
   "outputs": [
    {
     "data": {
      "text/plain": [
       "{'ID': Utf8,\n",
       " 'Customer_ID': Utf8,\n",
       " 'Month': Utf8,\n",
       " 'Name': Utf8,\n",
       " 'Age': Utf8,\n",
       " 'SSN': Utf8,\n",
       " 'Occupation': Utf8,\n",
       " 'Annual_Income': Utf8,\n",
       " 'Monthly_Inhand_Salary': Utf8,\n",
       " 'Num_Bank_Accounts': Utf8,\n",
       " 'Num_Credit_Card': Utf8,\n",
       " 'Interest_Rate': Utf8,\n",
       " 'Num_of_Loan': Utf8,\n",
       " 'Type_of_Loan': Utf8,\n",
       " 'Delay_from_due_date': Utf8,\n",
       " 'Num_of_Delayed_Payment': Utf8,\n",
       " 'Changed_Credit_Limit': Utf8,\n",
       " 'Num_Credit_Inquiries': Utf8,\n",
       " 'Credit_Mix': Utf8,\n",
       " 'Outstanding_Debt': Utf8,\n",
       " 'Credit_Utilization_Ratio': Utf8,\n",
       " 'Credit_History_Age': Utf8,\n",
       " 'Payment_of_Min_Amount': Utf8,\n",
       " 'Total_EMI_per_month': Utf8,\n",
       " 'Amount_invested_monthly': Utf8,\n",
       " 'Payment_Behaviour': Utf8,\n",
       " 'Monthly_Balance': Utf8,\n",
       " 'Credit_Score': Utf8}"
      ]
     },
     "execution_count": 37,
     "metadata": {},
     "output_type": "execute_result"
    }
   ],
   "source": [
    "data.schema"
   ]
  },
  {
   "cell_type": "code",
   "execution_count": 38,
   "metadata": {},
   "outputs": [],
   "source": [
    "def numberfy(val):\n",
    "    val = val.strip(\"_\")\n",
    "    if len(val) > 0:\n",
    "        return val\n"
   ]
  },
  {
   "cell_type": "code",
   "execution_count": 39,
   "metadata": {},
   "outputs": [],
   "source": [
    "# Cast Age to Int and  Remove Outliers\n",
    "data = data.with_columns(pl.col('Age').apply(\n",
    "    lambda x: numberfy(x)).cast(pl.Int32))\n",
    "data = data.with_columns(pl.when(pl.col('Age') < 0).then(pl.col('Age').median().over(['Customer_ID', 'Name'])).otherwise(\n",
    "    pl.col('Age')).keep_name())\n",
    "data = data.filter((pl.col('Age') > 0) & (pl.col('Age') < 100))\n"
   ]
  },
  {
   "cell_type": "code",
   "execution_count": 40,
   "metadata": {},
   "outputs": [],
   "source": [
    "# Cast Annual_Income to Float\n",
    "data = data.with_columns(pl.col('Annual_Income').apply(\n",
    "    lambda x: numberfy(x)).cast(pl.Float32))"
   ]
  },
  {
   "cell_type": "code",
   "execution_count": 41,
   "metadata": {},
   "outputs": [],
   "source": [
    "# Cast Monthly_Inhand_Salary to Float and  Remove Null values\n",
    "data = data.with_columns(pl.col('Monthly_Inhand_Salary').cast(pl.Float32))\n",
    "data = data.with_columns(pl.when(pl.col('Monthly_Inhand_Salary').is_null()).then(\n",
    "    pl.col('Monthly_Inhand_Salary').max().over(['Customer_ID', 'Name'])).otherwise(pl.col('Monthly_Inhand_Salary')).keep_name())\n"
   ]
  },
  {
   "cell_type": "code",
   "execution_count": 42,
   "metadata": {},
   "outputs": [],
   "source": [
    "# Cast Num_Bank_Accounts to Int and Remove Outliers\n",
    "data = data.with_columns(pl.col('Num_Bank_Accounts').cast(pl.Int32))\n",
    "data = data.with_columns(pl.when(pl.col('Num_Bank_Accounts') < 0).then(0).otherwise(\n",
    "    pl.col('Num_Bank_Accounts')).keep_name()).filter(pl.col('Num_Bank_Accounts') <= 10 )  # .to_pandas().Annual_Income[0]\n",
    "data = data.with_columns(\n",
    "    pl.col('Num_Bank_Accounts').mean().over(['Customer_ID', 'Name']))\n"
   ]
  },
  {
   "cell_type": "code",
   "execution_count": 43,
   "metadata": {},
   "outputs": [],
   "source": [
    "# Cast Num_Credit_Card to Int and Remove Outliers\n",
    "data = data.with_columns(pl.col('Num_Credit_Card').cast(pl.Int32))\n",
    "data = data.filter(pl.col('Num_Credit_Card') <= 10)\n",
    "data = data.with_columns(\n",
    "    pl.col('Num_Credit_Card').mean().over(['Customer_ID', 'Name']))\n"
   ]
  },
  {
   "cell_type": "code",
   "execution_count": 44,
   "metadata": {},
   "outputs": [],
   "source": [
    "# Cast Interest Rate to Int and  Remove Outliers\n",
    "data = data.with_columns(pl.col('Interest_Rate').cast(pl.Int32))\n",
    "data = data.filter(pl.col('Interest_Rate') <= 10)\n",
    "data = data.with_columns(\n",
    "    pl.col('Interest_Rate').mean().over(['Customer_ID', 'Name']))\n"
   ]
  },
  {
   "cell_type": "code",
   "execution_count": 45,
   "metadata": {},
   "outputs": [],
   "source": [
    "# Cast Num_of_Loan to Int and  Remove Outliers\n",
    "data = data.with_columns(pl.col('Num_of_Loan').apply(\n",
    "    lambda x: numberfy(x)).cast(pl.Int32))\n",
    "\n",
    "data = data.filter((pl.col('Num_of_Loan') > 0) & (pl.col('Num_of_Loan') <= 100))\n",
    "\n",
    "data = data.with_columns(pl.col('Num_of_Loan').mean().over(['Customer_ID', 'Name']))\n"
   ]
  },
  {
   "cell_type": "code",
   "execution_count": 46,
   "metadata": {},
   "outputs": [],
   "source": [
    "# Cast Delay_from_due_date to Int and  Remove Outliers\n",
    "data = data.with_columns(pl.col('Delay_from_due_date').apply(\n",
    "    lambda x: numberfy(x)).cast(pl.Int32)).with_columns(pl.when(pl.col('Delay_from_due_date') < 0).then(0).otherwise(\n",
    "        pl.col('Delay_from_due_date')).keep_name())\n"
   ]
  },
  {
   "cell_type": "code",
   "execution_count": 47,
   "metadata": {},
   "outputs": [],
   "source": [
    "# Cast Num_of_Delayed_Payment to Int and  Remove Outliers\n",
    "data = data.with_columns(pl.col('Num_of_Delayed_Payment').apply(\n",
    "    lambda x: numberfy(x)).cast(pl.Int32))\n",
    "\n",
    "data = data.filter((pl.col('Num_of_Delayed_Payment') > 0) & (pl.col('Num_of_Loan') <= 500))\n",
    "\n",
    "data = data.with_columns(\n",
    "    pl.col('Num_of_Delayed_Payment').mean().over(['Customer_ID', 'Name']))\n"
   ]
  },
  {
   "cell_type": "code",
   "execution_count": 48,
   "metadata": {},
   "outputs": [],
   "source": [
    "# Cast Changed_Credit_Limit to Float and  Remove Outliers\n",
    "data = data.with_columns(pl.col('Changed_Credit_Limit').apply(\n",
    "    lambda x: numberfy(x)).cast(pl.Float32))\n",
    "\n",
    "data = data.filter(pl.col('Changed_Credit_Limit') >0)\n",
    "\n",
    "data = data.with_columns(pl.col('Changed_Credit_Limit').mean().over(['Customer_ID', 'Name']))\n"
   ]
  },
  {
   "cell_type": "code",
   "execution_count": 49,
   "metadata": {},
   "outputs": [],
   "source": [
    "# Cast Num_Credit_Inquiries to Float\n",
    "data = data.with_columns(pl.col('Num_Credit_Inquiries').apply(\n",
    "    lambda x: numberfy(x)).cast(pl.Float32))\n",
    "data = data.with_columns(\n",
    "    pl.col('Num_Credit_Inquiries').mean().over(['Customer_ID', 'Name']))\n"
   ]
  },
  {
   "cell_type": "code",
   "execution_count": 50,
   "metadata": {},
   "outputs": [],
   "source": [
    "# Cast Outstanding to Float\n",
    "data = data.with_columns(pl.col('Outstanding_Debt').apply(\n",
    "    lambda x: numberfy(x)).cast(pl.Float32))\n"
   ]
  },
  {
   "cell_type": "code",
   "execution_count": 51,
   "metadata": {},
   "outputs": [],
   "source": [
    "# Cast Credit_Utilization_Ratio to Float\n",
    "data = data.with_columns(pl.col('Credit_Utilization_Ratio').apply(\n",
    "    lambda x: numberfy(x)).cast(pl.Float32))\n",
    "data = data.with_columns(\n",
    "    pl.col('Credit_Utilization_Ratio').mean().over(['Customer_ID', 'Name']))\n"
   ]
  },
  {
   "cell_type": "code",
   "execution_count": 52,
   "metadata": {},
   "outputs": [],
   "source": [
    "# Cast Total_EMI_per_month to Float\n",
    "data = data.with_columns(pl.col('Total_EMI_per_month').apply(\n",
    "    lambda x: numberfy(x)).cast(pl.Float32))\n",
    "data = data.with_columns(\n",
    "    pl.col('Total_EMI_per_month').mean().over(['Customer_ID', 'Name']))\n"
   ]
  },
  {
   "cell_type": "code",
   "execution_count": 53,
   "metadata": {},
   "outputs": [],
   "source": [
    "# Cast Amount_invested_monthly to Float\n",
    "data = data.with_columns(pl.col('Amount_invested_monthly').apply(\n",
    "    lambda x: numberfy(x)).cast(pl.Float32))\n",
    "data = data.with_columns(\n",
    "    pl.col('Amount_invested_monthly').mean().over(['Customer_ID', 'Name']))\n"
   ]
  },
  {
   "cell_type": "code",
   "execution_count": 54,
   "metadata": {},
   "outputs": [],
   "source": [
    "# Cast Monthly_Balance to Float and Remove Outliers\n",
    "data = data.with_columns(pl.col('Monthly_Balance').apply(\n",
    "    lambda x: numberfy(x)).cast(pl.Float32))\n",
    "\n",
    "data = data.filter(pl.col('Monthly_Balance') > 0)\n",
    "\n",
    "data = data.with_columns(\n",
    "    pl.col('Monthly_Balance').mean().over(['Customer_ID', 'Name']))\n"
   ]
  },
  {
   "cell_type": "code",
   "execution_count": 55,
   "metadata": {},
   "outputs": [],
   "source": [
    "def agify(val):\n",
    "    if val != \"NA\":\n",
    "        val = val.replace(\" \", \"\").split(\"Yearsand\")\n",
    "        years = int(val[0])\n",
    "        months = int(val[1].replace(\"Months\", \"\"))\n",
    "        return years + (months/12)\n"
   ]
  },
  {
   "cell_type": "code",
   "execution_count": 56,
   "metadata": {},
   "outputs": [],
   "source": [
    "# Cast Credit_History_Age to Float\n",
    "data = data.with_columns(pl.col('Credit_History_Age').apply(\n",
    "    lambda x: agify(x)).cast(pl.Float32))\n",
    "data = data.with_columns(\n",
    "    pl.col('Credit_History_Age').max().over(['Customer_ID', 'Name']))\n"
   ]
  },
  {
   "cell_type": "code",
   "execution_count": 57,
   "metadata": {},
   "outputs": [],
   "source": [
    "def jobify(val):\n",
    "    val = val.replace(\"_\", \"\")\n",
    "    if len(val) > 0:\n",
    "        return val\n",
    "    else:\n",
    "        return \"Other\"\n"
   ]
  },
  {
   "cell_type": "code",
   "execution_count": 58,
   "metadata": {},
   "outputs": [],
   "source": [
    "# Remove blanks from Occupation\n",
    "data = data.with_columns(pl.col('Occupation').apply(\n",
    "    lambda x: jobify(x)))\n"
   ]
  },
  {
   "cell_type": "code",
   "execution_count": 59,
   "metadata": {},
   "outputs": [],
   "source": [
    "# Remove blanks from Credit_Mix\n",
    "data = data.with_columns(pl.col('Credit_Mix').apply(\n",
    "    lambda x: jobify(x)))\n"
   ]
  },
  {
   "cell_type": "code",
   "execution_count": 60,
   "metadata": {},
   "outputs": [],
   "source": [
    "# Label Encode Credit_Score\n",
    "data = data.with_columns(pl.when((pl.col('Credit_Score') == \"Good\") | (\n",
    "    pl.col('Credit_Score') == \"Standard\")).then(pl.lit(0)).otherwise(pl.lit(1)).keep_name())\n"
   ]
  },
  {
   "cell_type": "code",
   "execution_count": 61,
   "metadata": {},
   "outputs": [],
   "source": [
    "data = data.filter(pl.col(\"Payment_Behaviour\") != \"!@9#%8\")\n"
   ]
  },
  {
   "cell_type": "code",
   "execution_count": 62,
   "metadata": {},
   "outputs": [],
   "source": [
    "# data.select('Type_of_Loan')[0].to_pandas().Type_of_Loan[0].replace(\" \", \"\").replace(\"and\", \"\").split(\",\")"
   ]
  },
  {
   "cell_type": "code",
   "execution_count": 63,
   "metadata": {},
   "outputs": [],
   "source": [
    "x= data.select('Customer_ID', 'Age', 'Occupation', 'Annual_Income', 'Monthly_Inhand_Salary', 'Num_Bank_Accounts', 'Num_Credit_Card', 'Interest_Rate', 'Num_of_Loan', 'Num_of_Delayed_Payment', 'Changed_Credit_Limit', 'Num_Credit_Inquiries', 'Credit_Mix', 'Outstanding_Debt', 'Credit_Utilization_Ratio', 'Credit_History_Age', 'Payment_of_Min_Amount', 'Total_EMI_per_month', 'Amount_invested_monthly', 'Payment_Behaviour', 'Monthly_Balance', 'Delay_from_due_date', 'Credit_Score').unique(subset=['Customer_ID']).to_pandas()\n"
   ]
  },
  {
   "cell_type": "code",
   "execution_count": 64,
   "metadata": {},
   "outputs": [
    {
     "data": {
      "text/plain": [
       "(3988, 23)"
      ]
     },
     "execution_count": 64,
     "metadata": {},
     "output_type": "execute_result"
    }
   ],
   "source": [
    "x.shape"
   ]
  },
  {
   "cell_type": "code",
   "execution_count": 65,
   "metadata": {},
   "outputs": [
    {
     "data": {
      "text/plain": [
       "0    0.88666\n",
       "1    0.11334\n",
       "Name: Credit_Score, dtype: float64"
      ]
     },
     "execution_count": 65,
     "metadata": {},
     "output_type": "execute_result"
    }
   ],
   "source": [
    "x.Credit_Score.value_counts(normalize=True)"
   ]
  },
  {
   "cell_type": "code",
   "execution_count": 66,
   "metadata": {},
   "outputs": [
    {
     "data": {
      "text/plain": [
       "<AxesSubplot:ylabel='Frequency'>"
      ]
     },
     "execution_count": 66,
     "metadata": {},
     "output_type": "execute_result"
    },
    {
     "data": {
      "image/png": "[encoded data removed]",
      "text/plain": [
       "<Figure size 640x480 with 1 Axes>"
      ]
     },
     "metadata": {},
     "output_type": "display_data"
    }
   ],
   "source": [
    "x.Credit_Score.plot(kind='hist')\n"
   ]
  },
  {
   "cell_type": "code",
   "execution_count": 67,
   "metadata": {},
   "outputs": [
    {
     "data": {
      "text/plain": [
       "<AxesSubplot:ylabel='Frequency'>"
      ]
     },
     "execution_count": 67,
     "metadata": {},
     "output_type": "execute_result"
    },
    {
     "data": {
      "image/png": "[encoded data removed]",
      "text/plain": [
       "<Figure size 640x480 with 1 Axes>"
      ]
     },
     "metadata": {},
     "output_type": "display_data"
    }
   ],
   "source": [
    "x.Delay_from_due_date.plot(kind='hist')"
   ]
  },
  {
   "cell_type": "code",
   "execution_count": 68,
   "metadata": {},
   "outputs": [],
   "source": [
    "x = x[~x.Monthly_Inhand_Salary.isna()]\n",
    "x = x[~x.Num_Credit_Inquiries.isna()]\n",
    "x = x[~x.Credit_History_Age.isna()]\n",
    "x = x[~x.Amount_invested_monthly.isna()]\n"
   ]
  },
  {
   "cell_type": "code",
   "execution_count": 69,
   "metadata": {},
   "outputs": [],
   "source": [
    "x.to_csv(\"~/Documents/kazispaces/dsrc/py/finlytik-app/data/train.csv\", index=False)\n"
   ]
  }
 ],
 "metadata": {
  "kernelspec": {
   "display_name": "Python 3.8.10 ('venv': venv)",
   "language": "python",
   "name": "python3"
  },
  "language_info": {
   "codemirror_mode": {
    "name": "ipython",
    "version": 3
   },
   "file_extension": ".py",
   "mimetype": "text/x-python",
   "name": "python",
   "nbconvert_exporter": "python",
   "pygments_lexer": "ipython3",
   "version": "3.8.10"
  },
  "orig_nbformat": 4,
  "vscode": {
   "interpreter": {
    "hash": "b83d2a88a9078c9809b6f4efab13af35e9baeaf1424f17a19b9ab79929fee7be"
   }
  }
 },
 "nbformat": 4,
 "nbformat_minor": 2
}
