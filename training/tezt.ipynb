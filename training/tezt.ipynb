{
 "cells": [
  {
   "cell_type": "code",
   "execution_count": 1,
   "metadata": {},
   "outputs": [],
   "source": [
    "import mlflow\n",
    "from mlflow import MlflowClient\n"
   ]
  },
  {
   "cell_type": "code",
   "execution_count": 2,
   "metadata": {},
   "outputs": [],
   "source": [
    "tracking_uri=\"http://localhost:5000\"\n",
    "model_name = \"Finlytik-RSF\""
   ]
  },
  {
   "cell_type": "code",
   "execution_count": 3,
   "metadata": {},
   "outputs": [],
   "source": [
    "client = MlflowClient(tracking_uri)\n",
    "filter_string = \"name LIKE 'Finly%'\"\n",
    "results = client.search_registered_models(filter_string=filter_string)  #\n",
    "# for res in results:\n",
    "#     for mv in res.latest_versions:\n",
    "#         print(\"name={}; run_id={}; version={}\".format(mv.name, mv.run_id, mv.version))\n"
   ]
  },
  {
   "cell_type": "code",
   "execution_count": 4,
   "metadata": {},
   "outputs": [
    {
     "data": {
      "text/plain": [
       "[<RegisteredModel: creation_timestamp=1677522235998, description='', last_updated_timestamp=1677562955693, latest_versions=[<ModelVersion: creation_timestamp=1677522236048, current_stage='Archived', description=('The model version 1 was transitioned to Production on 2023-02-27 '\n",
       "  '21:23:56.120903'), last_updated_timestamp=1677562955693, name='Finlytik-CSF', run_id='db90001a8d1044ab85440ba9aa595be8', run_link='', source='/home/main/Documents/kazispaces/dsrc/py/finlytik-app/training/mlflow_repo/1/db90001a8d1044ab85440ba9aa595be8/artifacts/Finlytik-CSF', status='READY', status_message='', tags={'Application': 'Finlytik', 'release.version': '0.1.0'}, user_id='', version='1'>,\n",
       "  <ModelVersion: creation_timestamp=1677562955655, current_stage='Production', description=('The model version 2 was transitioned to Production on 2023-02-28 '\n",
       "  '08:42:35.725464'), last_updated_timestamp=1677562955729, name='Finlytik-CSF', run_id='d237dc3908b747a6b77b1d474923d45f', run_link='', source='/home/main/Documents/kazispaces/dsrc/py/finlytik-app/training/mlflow_repo/1/d237dc3908b747a6b77b1d474923d45f/artifacts/Finlytik-CSF', status='READY', status_message='', tags={'Application': 'Finlytik', 'release.version': '0.1.0'}, user_id='', version='2'>], name='Finlytik-CSF', tags={}>]"
      ]
     },
     "execution_count": 4,
     "metadata": {},
     "output_type": "execute_result"
    }
   ],
   "source": [
    "results"
   ]
  },
  {
   "cell_type": "code",
   "execution_count": 5,
   "metadata": {},
   "outputs": [
    {
     "data": {
      "text/plain": [
       "'db90001a8d1044ab85440ba9aa595be8'"
      ]
     },
     "execution_count": 5,
     "metadata": {},
     "output_type": "execute_result"
    }
   ],
   "source": [
    "results[0].latest_versions[0].run_id"
   ]
  },
  {
   "cell_type": "code",
   "execution_count": 6,
   "metadata": {},
   "outputs": [],
   "source": [
    "def downloadModel(tracking_uri: str, model_name: str= None, search_prefix: str= \"Finly\") -> None:\n",
    "    mlflow.set_tracking_uri(tracking_uri)\n",
    "    client = MlflowClient(tracking_uri)\n",
    "    if model_name:\n",
    "        version_info = client.search_model_versions(f\"name='{model_name}'\")\n",
    "        run_id = version_info[0].run_id\n",
    "        \n",
    "    else:\n",
    "        version_info = client.search_registered_models(\n",
    "            filter_string=f\"name LIKE '{search_prefix}%'\")\n",
    "        run_id = version_info[0].latest_versions[0].run_id\n",
    "\n",
    "    mlflow.artifacts.download_artifacts(run_id=run_id, dst_path=\"./modelproduct_/\")\n",
    "        \n"
   ]
  },
  {
   "cell_type": "code",
   "execution_count": 7,
   "metadata": {},
   "outputs": [],
   "source": [
    "downloadModel(tracking_uri)"
   ]
  },
  {
   "cell_type": "code",
   "execution_count": 8,
   "metadata": {},
   "outputs": [],
   "source": [
    "from pydantic import BaseModel\n",
    "from pysurvival.utils import load_model\n",
    "import joblib"
   ]
  },
  {
   "cell_type": "code",
   "execution_count": 9,
   "metadata": {},
   "outputs": [],
   "source": [
    "class Details(BaseModel):\n",
    "    age: float\n",
    "    annual_income: float\n",
    "    monthly_inhand_salary: float\n",
    "    num_bank_accounts: float\n",
    "    num_credit_card: float\n",
    "    interest_rate: float\n",
    "    num_of_loan: float\n",
    "    num_of_delayed_payment: float\n",
    "    changed_credit_limit: float\n",
    "    num_credit_inquiries: float\n",
    "    credit_mix: str\n",
    "    outstanding_debt: float\n",
    "    credit_utilization_ratio: float\n",
    "    credit_history_age: float\n",
    "    payment_of_min_amount: float\n",
    "    total_emi_per_month: float\n",
    "    amount_invested_monthly: float\n",
    "    payment_behaviour: str\n",
    "    monthly_balance: float\n",
    "\n",
    "\n",
    "global pipeline\n",
    "global model"
   ]
  },
  {
   "cell_type": "code",
   "execution_count": 10,
   "metadata": {},
   "outputs": [
    {
     "name": "stdout",
     "output_type": "stream",
     "text": [
      "Loading the model from ./modelproduct/model.zip\n"
     ]
    },
    {
     "name": "stderr",
     "output_type": "stream",
     "text": [
      "/tmp/ipykernel_36543/1799418257.py:2: FutureWarning: 'pyarrow.deserialize' is deprecated as of 2.0.0 and will be removed in a future version. Use pickle or the pyarrow IPC functionality instead.\n",
      "  model = load_model('./modelproduct/model.zip')\n"
     ]
    }
   ],
   "source": [
    "pipeline = joblib.load('./modelproduct/data_pipe.sav')\n",
    "model = load_model('./modelproduct/model.zip')\n"
   ]
  },
  {
   "cell_type": "code",
   "execution_count": 11,
   "metadata": {},
   "outputs": [],
   "source": [
    "detail = Details(age=5, annual_income=200, monthly_inhand_salary=5000, num_bank_accounts=10, num_credit_card=5, interest_rate=5, num_of_loan=4, num_of_delayed_payment=6, changed_credit_limit=1, num_credit_inquiries=7,\n",
    "                 credit_mix=\"Standard\", outstanding_debt=100000, credit_utilization_ratio=33.3, credit_history_age=12, payment_of_min_amount=120, total_emi_per_month=100, amount_invested_monthly=1000, payment_behaviour=\"Low_spent_Medium_value_payments\", monthly_balance=6000)\n"
   ]
  },
  {
   "cell_type": "code",
   "execution_count": 12,
   "metadata": {},
   "outputs": [
    {
     "data": {
      "text/plain": [
       "{'age': 5.0,\n",
       " 'annual_income': 200.0,\n",
       " 'monthly_inhand_salary': 5000.0,\n",
       " 'num_bank_accounts': 10.0,\n",
       " 'num_credit_card': 5.0,\n",
       " 'interest_rate': 5.0,\n",
       " 'num_of_loan': 4.0,\n",
       " 'num_of_delayed_payment': 6.0,\n",
       " 'changed_credit_limit': 1.0,\n",
       " 'num_credit_inquiries': 7.0,\n",
       " 'credit_mix': 'Standard',\n",
       " 'outstanding_debt': 100000.0,\n",
       " 'credit_utilization_ratio': 33.3,\n",
       " 'credit_history_age': 12.0,\n",
       " 'payment_of_min_amount': 120.0,\n",
       " 'total_emi_per_month': 100.0,\n",
       " 'amount_invested_monthly': 1000.0,\n",
       " 'payment_behaviour': 'Low_spent_Medium_value_payments',\n",
       " 'monthly_balance': 6000.0}"
      ]
     },
     "execution_count": 12,
     "metadata": {},
     "output_type": "execute_result"
    }
   ],
   "source": [
    "detail.dict()"
   ]
  },
  {
   "cell_type": "code",
   "execution_count": 13,
   "metadata": {},
   "outputs": [
    {
     "name": "stdout",
     "output_type": "stream",
     "text": [
      "(0, 'age')\n",
      "(1, 'amount_invested_monthly')\n",
      "(2, 'annual_income')\n",
      "(3, 'changed_credit_limit')\n",
      "(4, 'credit_history_age')\n",
      "(5, 'credit_mix=Good')\n",
      "(6, 'credit_mix=Other')\n",
      "(7, 'credit_mix=Standard')\n",
      "(8, 'credit_utilization_ratio')\n",
      "(9, 'interest_rate')\n",
      "(10, 'monthly_balance')\n",
      "(11, 'monthly_inhand_salary')\n",
      "(12, 'num_bank_accounts')\n",
      "(13, 'num_credit_card')\n",
      "(14, 'num_credit_inquiries')\n",
      "(15, 'num_of_delayed_payment')\n",
      "(16, 'num_of_loan')\n",
      "(17, 'occupation=Accountant')\n",
      "(18, 'occupation=Architect')\n",
      "(19, 'occupation=Developer')\n",
      "(20, 'occupation=Doctor')\n",
      "(21, 'occupation=Engineer')\n",
      "(22, 'occupation=Entrepreneur')\n",
      "(23, 'occupation=Journalist')\n",
      "(24, 'occupation=Lawyer')\n",
      "(25, 'occupation=Manager')\n",
      "(26, 'occupation=Mechanic')\n",
      "(27, 'occupation=MediaManager')\n",
      "(28, 'occupation=Musician')\n",
      "(29, 'occupation=Other')\n",
      "(30, 'occupation=Scientist')\n",
      "(31, 'occupation=Teacher')\n",
      "(32, 'occupation=Writer')\n",
      "(33, 'outstanding_debt')\n",
      "(34, 'payment_behaviour=High_spent_Large_value_payments')\n",
      "(35, 'payment_behaviour=High_spent_Medium_value_payments')\n",
      "(36, 'payment_behaviour=High_spent_Small_value_payments')\n",
      "(37, 'payment_behaviour=Low_spent_Large_value_payments')\n",
      "(38, 'payment_behaviour=Low_spent_Medium_value_payments')\n",
      "(39, 'payment_behaviour=Low_spent_Small_value_payments')\n",
      "(40, 'payment_of_min_amount=NM')\n",
      "(41, 'payment_of_min_amount=No')\n",
      "(42, 'payment_of_min_amount=Yes')\n",
      "(43, 'total_emi_per_month')\n"
     ]
    }
   ],
   "source": [
    "for element in enumerate(pipeline.get_feature_names_out()):\n",
    "    print(element)\n"
   ]
  },
  {
   "cell_type": "code",
   "execution_count": 14,
   "metadata": {},
   "outputs": [],
   "source": [
    "X = pipeline.transform([detail.dict()])"
   ]
  },
  {
   "cell_type": "code",
   "execution_count": 15,
   "metadata": {},
   "outputs": [
    {
     "data": {
      "text/plain": [
       "array([[-2.72105300e+00,  2.94872063e-01, -1.36850825e-01,\n",
       "        -1.53897969e+00, -1.66980622e+00, -9.81877373e-01,\n",
       "        -4.87232790e-01,  1.46685662e+00,  2.69690328e-01,\n",
       "        -4.36882135e-01,  2.96183076e+01, -2.85638404e-02,\n",
       "         2.71633372e+00,  2.55607545e-01, -1.87930264e-01,\n",
       "        -1.95773584e-01,  8.58803268e-01, -2.51911830e-01,\n",
       "        -2.69459452e-01, -2.58331401e-01, -2.68773924e-01,\n",
       "        -2.53349026e-01, -2.58331401e-01, -2.42412019e-01,\n",
       "        -2.70143711e-01, -2.47562169e-01, -2.59037272e-01,\n",
       "        -2.57624082e-01, -2.43152922e-01, -2.63938804e-01,\n",
       "        -2.66709619e-01, -2.64633513e-01, -2.54065307e-01,\n",
       "         2.02549381e+02, -4.82185613e-01, -5.02805633e-01,\n",
       "        -3.70373073e-01, -3.51060170e-01,  2.33239847e+00,\n",
       "        -5.37167560e-01, -3.72051349e-01, -1.30244646e+00,\n",
       "        -5.76238911e-01, -3.27894385e-01]])"
      ]
     },
     "execution_count": 15,
     "metadata": {},
     "output_type": "execute_result"
    }
   ],
   "source": [
    "X"
   ]
  },
  {
   "cell_type": "code",
   "execution_count": 16,
   "metadata": {},
   "outputs": [
    {
     "data": {
      "text/html": [
       "<div>\n",
       "<style scoped>\n",
       "    .dataframe tbody tr th:only-of-type {\n",
       "        vertical-align: middle;\n",
       "    }\n",
       "\n",
       "    .dataframe tbody tr th {\n",
       "        vertical-align: top;\n",
       "    }\n",
       "\n",
       "    .dataframe thead th {\n",
       "        text-align: right;\n",
       "    }\n",
       "</style>\n",
       "<table border=\"1\" class=\"dataframe\">\n",
       "  <thead>\n",
       "    <tr style=\"text-align: right;\">\n",
       "      <th></th>\n",
       "      <th>feature</th>\n",
       "      <th>importance</th>\n",
       "      <th>pct_importance</th>\n",
       "    </tr>\n",
       "  </thead>\n",
       "  <tbody>\n",
       "    <tr>\n",
       "      <th>0</th>\n",
       "      <td>x_33</td>\n",
       "      <td>33.599587</td>\n",
       "      <td>0.239105</td>\n",
       "    </tr>\n",
       "    <tr>\n",
       "      <th>1</th>\n",
       "      <td>x_12</td>\n",
       "      <td>22.810299</td>\n",
       "      <td>0.162325</td>\n",
       "    </tr>\n",
       "    <tr>\n",
       "      <th>2</th>\n",
       "      <td>x_7</td>\n",
       "      <td>15.393298</td>\n",
       "      <td>0.109544</td>\n",
       "    </tr>\n",
       "    <tr>\n",
       "      <th>3</th>\n",
       "      <td>x_5</td>\n",
       "      <td>14.756118</td>\n",
       "      <td>0.105009</td>\n",
       "    </tr>\n",
       "    <tr>\n",
       "      <th>4</th>\n",
       "      <td>x_15</td>\n",
       "      <td>14.560531</td>\n",
       "      <td>0.103617</td>\n",
       "    </tr>\n",
       "    <tr>\n",
       "      <th>5</th>\n",
       "      <td>x_42</td>\n",
       "      <td>8.985275</td>\n",
       "      <td>0.063942</td>\n",
       "    </tr>\n",
       "    <tr>\n",
       "      <th>6</th>\n",
       "      <td>x_6</td>\n",
       "      <td>8.673505</td>\n",
       "      <td>0.061723</td>\n",
       "    </tr>\n",
       "    <tr>\n",
       "      <th>7</th>\n",
       "      <td>x_41</td>\n",
       "      <td>4.700594</td>\n",
       "      <td>0.033451</td>\n",
       "    </tr>\n",
       "    <tr>\n",
       "      <th>8</th>\n",
       "      <td>x_14</td>\n",
       "      <td>2.913952</td>\n",
       "      <td>0.020737</td>\n",
       "    </tr>\n",
       "    <tr>\n",
       "      <th>9</th>\n",
       "      <td>x_0</td>\n",
       "      <td>2.347920</td>\n",
       "      <td>0.016709</td>\n",
       "    </tr>\n",
       "    <tr>\n",
       "      <th>10</th>\n",
       "      <td>x_8</td>\n",
       "      <td>2.154533</td>\n",
       "      <td>0.015332</td>\n",
       "    </tr>\n",
       "    <tr>\n",
       "      <th>11</th>\n",
       "      <td>x_40</td>\n",
       "      <td>2.042944</td>\n",
       "      <td>0.014538</td>\n",
       "    </tr>\n",
       "    <tr>\n",
       "      <th>12</th>\n",
       "      <td>x_13</td>\n",
       "      <td>1.206219</td>\n",
       "      <td>0.008584</td>\n",
       "    </tr>\n",
       "    <tr>\n",
       "      <th>13</th>\n",
       "      <td>x_9</td>\n",
       "      <td>1.115089</td>\n",
       "      <td>0.007935</td>\n",
       "    </tr>\n",
       "    <tr>\n",
       "      <th>14</th>\n",
       "      <td>x_2</td>\n",
       "      <td>0.963742</td>\n",
       "      <td>0.006858</td>\n",
       "    </tr>\n",
       "    <tr>\n",
       "      <th>15</th>\n",
       "      <td>x_35</td>\n",
       "      <td>0.732405</td>\n",
       "      <td>0.005212</td>\n",
       "    </tr>\n",
       "    <tr>\n",
       "      <th>16</th>\n",
       "      <td>x_27</td>\n",
       "      <td>0.659881</td>\n",
       "      <td>0.004696</td>\n",
       "    </tr>\n",
       "    <tr>\n",
       "      <th>17</th>\n",
       "      <td>x_37</td>\n",
       "      <td>0.570315</td>\n",
       "      <td>0.004059</td>\n",
       "    </tr>\n",
       "    <tr>\n",
       "      <th>18</th>\n",
       "      <td>x_10</td>\n",
       "      <td>0.563581</td>\n",
       "      <td>0.004011</td>\n",
       "    </tr>\n",
       "    <tr>\n",
       "      <th>19</th>\n",
       "      <td>x_11</td>\n",
       "      <td>0.489610</td>\n",
       "      <td>0.003484</td>\n",
       "    </tr>\n",
       "    <tr>\n",
       "      <th>20</th>\n",
       "      <td>x_20</td>\n",
       "      <td>0.471881</td>\n",
       "      <td>0.003358</td>\n",
       "    </tr>\n",
       "    <tr>\n",
       "      <th>21</th>\n",
       "      <td>x_19</td>\n",
       "      <td>0.457817</td>\n",
       "      <td>0.003258</td>\n",
       "    </tr>\n",
       "    <tr>\n",
       "      <th>22</th>\n",
       "      <td>x_39</td>\n",
       "      <td>0.179169</td>\n",
       "      <td>0.001275</td>\n",
       "    </tr>\n",
       "    <tr>\n",
       "      <th>23</th>\n",
       "      <td>x_1</td>\n",
       "      <td>0.137996</td>\n",
       "      <td>0.000982</td>\n",
       "    </tr>\n",
       "    <tr>\n",
       "      <th>24</th>\n",
       "      <td>x_34</td>\n",
       "      <td>0.032622</td>\n",
       "      <td>0.000232</td>\n",
       "    </tr>\n",
       "    <tr>\n",
       "      <th>25</th>\n",
       "      <td>x_4</td>\n",
       "      <td>0.003142</td>\n",
       "      <td>0.000022</td>\n",
       "    </tr>\n",
       "    <tr>\n",
       "      <th>26</th>\n",
       "      <td>x_21</td>\n",
       "      <td>0.000000</td>\n",
       "      <td>0.000000</td>\n",
       "    </tr>\n",
       "    <tr>\n",
       "      <th>27</th>\n",
       "      <td>x_32</td>\n",
       "      <td>0.000000</td>\n",
       "      <td>0.000000</td>\n",
       "    </tr>\n",
       "    <tr>\n",
       "      <th>28</th>\n",
       "      <td>x_28</td>\n",
       "      <td>0.000000</td>\n",
       "      <td>0.000000</td>\n",
       "    </tr>\n",
       "    <tr>\n",
       "      <th>29</th>\n",
       "      <td>x_3</td>\n",
       "      <td>-0.082817</td>\n",
       "      <td>0.000000</td>\n",
       "    </tr>\n",
       "    <tr>\n",
       "      <th>30</th>\n",
       "      <td>x_23</td>\n",
       "      <td>-0.155955</td>\n",
       "      <td>0.000000</td>\n",
       "    </tr>\n",
       "    <tr>\n",
       "      <th>31</th>\n",
       "      <td>x_16</td>\n",
       "      <td>-0.223983</td>\n",
       "      <td>0.000000</td>\n",
       "    </tr>\n",
       "    <tr>\n",
       "      <th>32</th>\n",
       "      <td>x_36</td>\n",
       "      <td>-0.234310</td>\n",
       "      <td>0.000000</td>\n",
       "    </tr>\n",
       "    <tr>\n",
       "      <th>33</th>\n",
       "      <td>x_30</td>\n",
       "      <td>-1.002064</td>\n",
       "      <td>0.000000</td>\n",
       "    </tr>\n",
       "    <tr>\n",
       "      <th>34</th>\n",
       "      <td>x_25</td>\n",
       "      <td>-1.002064</td>\n",
       "      <td>0.000000</td>\n",
       "    </tr>\n",
       "    <tr>\n",
       "      <th>35</th>\n",
       "      <td>x_17</td>\n",
       "      <td>-1.002064</td>\n",
       "      <td>0.000000</td>\n",
       "    </tr>\n",
       "    <tr>\n",
       "      <th>36</th>\n",
       "      <td>x_31</td>\n",
       "      <td>-1.021942</td>\n",
       "      <td>0.000000</td>\n",
       "    </tr>\n",
       "    <tr>\n",
       "      <th>37</th>\n",
       "      <td>x_22</td>\n",
       "      <td>-1.157283</td>\n",
       "      <td>0.000000</td>\n",
       "    </tr>\n",
       "    <tr>\n",
       "      <th>38</th>\n",
       "      <td>x_18</td>\n",
       "      <td>-1.392091</td>\n",
       "      <td>0.000000</td>\n",
       "    </tr>\n",
       "    <tr>\n",
       "      <th>39</th>\n",
       "      <td>x_26</td>\n",
       "      <td>-1.414634</td>\n",
       "      <td>0.000000</td>\n",
       "    </tr>\n",
       "    <tr>\n",
       "      <th>40</th>\n",
       "      <td>x_38</td>\n",
       "      <td>-1.445169</td>\n",
       "      <td>0.000000</td>\n",
       "    </tr>\n",
       "    <tr>\n",
       "      <th>41</th>\n",
       "      <td>x_24</td>\n",
       "      <td>-1.471678</td>\n",
       "      <td>0.000000</td>\n",
       "    </tr>\n",
       "    <tr>\n",
       "      <th>42</th>\n",
       "      <td>x_29</td>\n",
       "      <td>-1.684163</td>\n",
       "      <td>0.000000</td>\n",
       "    </tr>\n",
       "    <tr>\n",
       "      <th>43</th>\n",
       "      <td>x_43</td>\n",
       "      <td>-1.823780</td>\n",
       "      <td>0.000000</td>\n",
       "    </tr>\n",
       "  </tbody>\n",
       "</table>\n",
       "</div>"
      ],
      "text/plain": [
       "   feature  importance  pct_importance\n",
       "0     x_33   33.599587        0.239105\n",
       "1     x_12   22.810299        0.162325\n",
       "2      x_7   15.393298        0.109544\n",
       "3      x_5   14.756118        0.105009\n",
       "4     x_15   14.560531        0.103617\n",
       "5     x_42    8.985275        0.063942\n",
       "6      x_6    8.673505        0.061723\n",
       "7     x_41    4.700594        0.033451\n",
       "8     x_14    2.913952        0.020737\n",
       "9      x_0    2.347920        0.016709\n",
       "10     x_8    2.154533        0.015332\n",
       "11    x_40    2.042944        0.014538\n",
       "12    x_13    1.206219        0.008584\n",
       "13     x_9    1.115089        0.007935\n",
       "14     x_2    0.963742        0.006858\n",
       "15    x_35    0.732405        0.005212\n",
       "16    x_27    0.659881        0.004696\n",
       "17    x_37    0.570315        0.004059\n",
       "18    x_10    0.563581        0.004011\n",
       "19    x_11    0.489610        0.003484\n",
       "20    x_20    0.471881        0.003358\n",
       "21    x_19    0.457817        0.003258\n",
       "22    x_39    0.179169        0.001275\n",
       "23     x_1    0.137996        0.000982\n",
       "24    x_34    0.032622        0.000232\n",
       "25     x_4    0.003142        0.000022\n",
       "26    x_21    0.000000        0.000000\n",
       "27    x_32    0.000000        0.000000\n",
       "28    x_28    0.000000        0.000000\n",
       "29     x_3   -0.082817        0.000000\n",
       "30    x_23   -0.155955        0.000000\n",
       "31    x_16   -0.223983        0.000000\n",
       "32    x_36   -0.234310        0.000000\n",
       "33    x_30   -1.002064        0.000000\n",
       "34    x_25   -1.002064        0.000000\n",
       "35    x_17   -1.002064        0.000000\n",
       "36    x_31   -1.021942        0.000000\n",
       "37    x_22   -1.157283        0.000000\n",
       "38    x_18   -1.392091        0.000000\n",
       "39    x_26   -1.414634        0.000000\n",
       "40    x_38   -1.445169        0.000000\n",
       "41    x_24   -1.471678        0.000000\n",
       "42    x_29   -1.684163        0.000000\n",
       "43    x_43   -1.823780        0.000000"
      ]
     },
     "execution_count": 16,
     "metadata": {},
     "output_type": "execute_result"
    }
   ],
   "source": [
    "model.variable_importance_table\n"
   ]
  },
  {
   "cell_type": "code",
   "execution_count": 17,
   "metadata": {},
   "outputs": [],
   "source": [
    "trial = model.predict_survival(X)"
   ]
  },
  {
   "cell_type": "code",
   "execution_count": 18,
   "metadata": {},
   "outputs": [],
   "source": [
    "y = model.times"
   ]
  },
  {
   "cell_type": "code",
   "execution_count": 19,
   "metadata": {},
   "outputs": [
    {
     "data": {
      "text/plain": [
       "list"
      ]
     },
     "execution_count": 19,
     "metadata": {},
     "output_type": "execute_result"
    }
   ],
   "source": [
    "type(y)"
   ]
  },
  {
   "cell_type": "code",
   "execution_count": 38,
   "metadata": {},
   "outputs": [],
   "source": [
    "import json"
   ]
  },
  {
   "cell_type": "code",
   "execution_count": 32,
   "metadata": {},
   "outputs": [],
   "source": [
    "cc = list(trial.flatten())"
   ]
  },
  {
   "cell_type": "code",
   "execution_count": 35,
   "metadata": {},
   "outputs": [
    {
     "name": "stdout",
     "output_type": "stream",
     "text": [
      "0.9997931309922907\n",
      "0.9995299975992606\n",
      "0.9995299975992606\n",
      "0.9990311259813528\n",
      "0.9990311259813528\n",
      "0.9880401051306023\n",
      "0.987886749313187\n",
      "0.9839810352407442\n",
      "0.9612445365880601\n",
      "0.9351184246100631\n",
      "0.9346400833493714\n",
      "0.9201797297687937\n",
      "0.9018756379357066\n",
      "0.9006510847470852\n",
      "0.8882843331493336\n",
      "0.8634734747719552\n",
      "0.8401421887932534\n",
      "0.8140004367526279\n",
      "0.8103423941204119\n",
      "0.8071558520941365\n",
      "0.7754583901191385\n",
      "0.775323669513574\n",
      "0.7745038950728275\n",
      "0.7134563483806797\n",
      "0.6593507729809489\n",
      "0.6575468363790202\n",
      "0.6022295715828453\n",
      "0.5995137981433467\n",
      "0.555950812717958\n",
      "0.5544947869717427\n",
      "0.5000500734135331\n",
      "0.4754772049153762\n",
      "0.4754772049153762\n",
      "0.4754772049153762\n",
      "0.4572035074615526\n",
      "0.4572035074615526\n"
     ]
    }
   ],
   "source": [
    "for c in cc:\n",
    "    print(c)"
   ]
  },
  {
   "cell_type": "code",
   "execution_count": 21,
   "metadata": {},
   "outputs": [],
   "source": [
    "clf = None"
   ]
  },
  {
   "cell_type": "code",
   "execution_count": 22,
   "metadata": {},
   "outputs": [
    {
     "ename": "AttributeError",
     "evalue": "'NoneType' object has no attribute 'pipe'",
     "output_type": "error",
     "traceback": [
      "\u001b[0;31m---------------------------------------------------------------------------\u001b[0m",
      "\u001b[0;31mAttributeError\u001b[0m                            Traceback (most recent call last)",
      "Cell \u001b[0;32mIn [22], line 1\u001b[0m\n\u001b[0;32m----> 1\u001b[0m clf\u001b[39m.\u001b[39;49mpipe \u001b[39m=\u001b[39m \u001b[39m\"\u001b[39m\u001b[39mhello\u001b[39m\u001b[39m\"\u001b[39m\n",
      "\u001b[0;31mAttributeError\u001b[0m: 'NoneType' object has no attribute 'pipe'"
     ]
    }
   ],
   "source": [
    "clf.pipe = \"hello\""
   ]
  },
  {
   "cell_type": "code",
   "execution_count": 131,
   "metadata": {},
   "outputs": [
    {
     "data": {
      "text/plain": [
       "array([12.45575698])"
      ]
     },
     "execution_count": 131,
     "metadata": {},
     "output_type": "execute_result"
    }
   ],
   "source": [
    "model.predict_risk(X)\n"
   ]
  },
  {
   "cell_type": "code",
   "execution_count": 132,
   "metadata": {},
   "outputs": [],
   "source": [
    "import matplotlib.pyplot as plt"
   ]
  },
  {
   "cell_type": "code",
   "execution_count": 133,
   "metadata": {},
   "outputs": [
    {
     "data": {
      "image/png": "[encoded data removed]",
      "text/plain": [
       "<Figure size 1500x500 with 1 Axes>"
      ]
     },
     "metadata": {},
     "output_type": "display_data"
    }
   ],
   "source": [
    "fig = plt.subplots(figsize=(15, 5))\n",
    "cdf = model.predict_survival(X).flatten()\n",
    "plt.plot(model.times, cdf, color=\"blue\", lw=2)\n",
    "title = \"Cumulative density functions\"\n",
    "plt.title(title, fontsize=15)\n",
    "plt.xlim(0, 50)\n",
    "plt.ylim(0, 1.05)\n",
    "plt.show()"
   ]
  },
  {
   "cell_type": "code",
   "execution_count": 5,
   "metadata": {},
   "outputs": [],
   "source": [
    "from pydantic import EmailStr\n",
    "from email_validator import validate_email, EmailNotValidError"
   ]
  },
  {
   "cell_type": "code",
   "execution_count": 7,
   "metadata": {},
   "outputs": [
    {
     "name": "stdout",
     "output_type": "stream",
     "text": [
      "The domain name stackabu.com does not exist.\n"
     ]
    }
   ],
   "source": [
    "\n",
    "\n",
    "testEmail = \"example@stackabu.com\"\n",
    "\n",
    "try:\n",
    "    emailObject = validate_email(testEmail, check_deliverability=True)\n",
    "    testEmail = emailObject.email\n",
    "    print(testEmail)\n",
    "except EmailNotValidError as errorMsg:\n",
    "    print(str(errorMsg))\n"
   ]
  },
  {
   "cell_type": "code",
   "execution_count": null,
   "metadata": {},
   "outputs": [],
   "source": []
  }
 ],
 "metadata": {
  "kernelspec": {
   "display_name": "venv",
   "language": "python",
   "name": "python3"
  },
  "language_info": {
   "codemirror_mode": {
    "name": "ipython",
    "version": 3
   },
   "file_extension": ".py",
   "mimetype": "text/x-python",
   "name": "python",
   "nbconvert_exporter": "python",
   "pygments_lexer": "ipython3",
   "version": "3.8.10"
  },
  "orig_nbformat": 4,
  "vscode": {
   "interpreter": {
    "hash": "2d3ef3f1aa15bdbf4deb48dfb65e02f2615e707798b6220c6c242281a432daa6"
   }
  }
 },
 "nbformat": 4,
 "nbformat_minor": 2
}
